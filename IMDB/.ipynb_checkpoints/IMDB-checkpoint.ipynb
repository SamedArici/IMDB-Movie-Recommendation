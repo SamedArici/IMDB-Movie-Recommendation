{
 "cells": [
  {
   "cell_type": "code",
   "execution_count": 1,
   "id": "ae3bc9f3",
   "metadata": {},
   "outputs": [],
   "source": [
    "import pandas as pd\n",
    "import numpy as np"
   ]
  },
  {
   "cell_type": "code",
   "execution_count": 2,
   "id": "c3898df6",
   "metadata": {},
   "outputs": [
    {
     "data": {
      "text/html": [
       "<div>\n",
       "<style scoped>\n",
       "    .dataframe tbody tr th:only-of-type {\n",
       "        vertical-align: middle;\n",
       "    }\n",
       "\n",
       "    .dataframe tbody tr th {\n",
       "        vertical-align: top;\n",
       "    }\n",
       "\n",
       "    .dataframe thead th {\n",
       "        text-align: right;\n",
       "    }\n",
       "</style>\n",
       "<table border=\"1\" class=\"dataframe\">\n",
       "  <thead>\n",
       "    <tr style=\"text-align: right;\">\n",
       "      <th></th>\n",
       "      <th>Poster_Link</th>\n",
       "      <th>Series_Title</th>\n",
       "      <th>Released_Year</th>\n",
       "      <th>Certificate</th>\n",
       "      <th>Runtime</th>\n",
       "      <th>Genre</th>\n",
       "      <th>IMDB_Rating</th>\n",
       "      <th>Overview</th>\n",
       "      <th>Meta_score</th>\n",
       "      <th>Director</th>\n",
       "      <th>Star1</th>\n",
       "      <th>Star2</th>\n",
       "      <th>Star3</th>\n",
       "      <th>Star4</th>\n",
       "      <th>No_of_Votes</th>\n",
       "      <th>Gross</th>\n",
       "    </tr>\n",
       "  </thead>\n",
       "  <tbody>\n",
       "    <tr>\n",
       "      <th>0</th>\n",
       "      <td>https://m.media-amazon.com/images/M/MV5BMDFkYT...</td>\n",
       "      <td>The Shawshank Redemption</td>\n",
       "      <td>1994</td>\n",
       "      <td>A</td>\n",
       "      <td>142 min</td>\n",
       "      <td>Drama</td>\n",
       "      <td>9.3</td>\n",
       "      <td>Two imprisoned men bond over a number of years...</td>\n",
       "      <td>80.0</td>\n",
       "      <td>Frank Darabont</td>\n",
       "      <td>Tim Robbins</td>\n",
       "      <td>Morgan Freeman</td>\n",
       "      <td>Bob Gunton</td>\n",
       "      <td>William Sadler</td>\n",
       "      <td>2343110</td>\n",
       "      <td>28,341,469</td>\n",
       "    </tr>\n",
       "  </tbody>\n",
       "</table>\n",
       "</div>"
      ],
      "text/plain": [
       "                                         Poster_Link  \\\n",
       "0  https://m.media-amazon.com/images/M/MV5BMDFkYT...   \n",
       "\n",
       "               Series_Title Released_Year Certificate  Runtime  Genre  \\\n",
       "0  The Shawshank Redemption          1994           A  142 min  Drama   \n",
       "\n",
       "   IMDB_Rating                                           Overview  Meta_score  \\\n",
       "0          9.3  Two imprisoned men bond over a number of years...        80.0   \n",
       "\n",
       "         Director        Star1           Star2       Star3           Star4  \\\n",
       "0  Frank Darabont  Tim Robbins  Morgan Freeman  Bob Gunton  William Sadler   \n",
       "\n",
       "   No_of_Votes       Gross  \n",
       "0      2343110  28,341,469  "
      ]
     },
     "execution_count": 2,
     "metadata": {},
     "output_type": "execute_result"
    }
   ],
   "source": [
    "df = pd.read_csv('imdb_top_1000.csv')\n",
    "df.head(1)"
   ]
  },
  {
   "cell_type": "code",
   "execution_count": 3,
   "id": "64d33a20",
   "metadata": {},
   "outputs": [],
   "source": [
    "df.columns = map(str.lower,df.columns)"
   ]
  },
  {
   "cell_type": "code",
   "execution_count": 4,
   "id": "f624d229",
   "metadata": {},
   "outputs": [],
   "source": [
    "df.series_title = df.series_title.apply(lambda x: x.lower())"
   ]
  },
  {
   "cell_type": "code",
   "execution_count": 5,
   "id": "e0a77655",
   "metadata": {},
   "outputs": [],
   "source": [
    "df.genre = df.genre.apply(lambda x: x.replace(',',' '))"
   ]
  },
  {
   "cell_type": "code",
   "execution_count": 6,
   "id": "7e3a5475",
   "metadata": {},
   "outputs": [],
   "source": [
    "df.star1 = df.star1.apply(lambda x: x.replace(' ',''))\n",
    "df.star2 = df.star2.apply(lambda x: x.replace(' ',''))\n",
    "df.star3 = df.star3.apply(lambda x: x.replace(' ',''))\n",
    "df.star4 = df.star4.apply(lambda x: x.replace(' ',''))"
   ]
  },
  {
   "cell_type": "code",
   "execution_count": 7,
   "id": "e91f591e",
   "metadata": {},
   "outputs": [],
   "source": [
    "df['stars'] = df.star1 +\" \"+ df.star2 +\" \" + df.star3 +\" \"+ df.star4"
   ]
  },
  {
   "cell_type": "code",
   "execution_count": 8,
   "id": "41e73584",
   "metadata": {},
   "outputs": [],
   "source": [
    "df = df[['series_title','genre','overview','director','stars']]"
   ]
  },
  {
   "cell_type": "code",
   "execution_count": 9,
   "id": "649ab888",
   "metadata": {},
   "outputs": [
    {
     "data": {
      "text/html": [
       "<div>\n",
       "<style scoped>\n",
       "    .dataframe tbody tr th:only-of-type {\n",
       "        vertical-align: middle;\n",
       "    }\n",
       "\n",
       "    .dataframe tbody tr th {\n",
       "        vertical-align: top;\n",
       "    }\n",
       "\n",
       "    .dataframe thead th {\n",
       "        text-align: right;\n",
       "    }\n",
       "</style>\n",
       "<table border=\"1\" class=\"dataframe\">\n",
       "  <thead>\n",
       "    <tr style=\"text-align: right;\">\n",
       "      <th></th>\n",
       "      <th>series_title</th>\n",
       "      <th>genre</th>\n",
       "      <th>overview</th>\n",
       "      <th>director</th>\n",
       "      <th>stars</th>\n",
       "    </tr>\n",
       "  </thead>\n",
       "  <tbody>\n",
       "    <tr>\n",
       "      <th>0</th>\n",
       "      <td>the shawshank redemption</td>\n",
       "      <td>Drama</td>\n",
       "      <td>Two imprisoned men bond over a number of years...</td>\n",
       "      <td>Frank Darabont</td>\n",
       "      <td>TimRobbins MorganFreeman BobGunton WilliamSadler</td>\n",
       "    </tr>\n",
       "    <tr>\n",
       "      <th>1</th>\n",
       "      <td>the godfather</td>\n",
       "      <td>Crime  Drama</td>\n",
       "      <td>An organized crime dynasty's aging patriarch t...</td>\n",
       "      <td>Francis Ford Coppola</td>\n",
       "      <td>MarlonBrando AlPacino JamesCaan DianeKeaton</td>\n",
       "    </tr>\n",
       "  </tbody>\n",
       "</table>\n",
       "</div>"
      ],
      "text/plain": [
       "               series_title         genre  \\\n",
       "0  the shawshank redemption         Drama   \n",
       "1             the godfather  Crime  Drama   \n",
       "\n",
       "                                            overview              director  \\\n",
       "0  Two imprisoned men bond over a number of years...        Frank Darabont   \n",
       "1  An organized crime dynasty's aging patriarch t...  Francis Ford Coppola   \n",
       "\n",
       "                                              stars  \n",
       "0  TimRobbins MorganFreeman BobGunton WilliamSadler  \n",
       "1       MarlonBrando AlPacino JamesCaan DianeKeaton  "
      ]
     },
     "execution_count": 9,
     "metadata": {},
     "output_type": "execute_result"
    }
   ],
   "source": [
    "df.head(2)"
   ]
  },
  {
   "cell_type": "code",
   "execution_count": 10,
   "id": "6498d20d",
   "metadata": {},
   "outputs": [],
   "source": [
    "df['tags'] = df.overview + \" \" + df.genre + \" \" + df.director + \" \" + df.stars"
   ]
  },
  {
   "cell_type": "code",
   "execution_count": 11,
   "id": "46857e99",
   "metadata": {},
   "outputs": [
    {
     "data": {
      "text/plain": [
       "999"
      ]
     },
     "execution_count": 11,
     "metadata": {},
     "output_type": "execute_result"
    }
   ],
   "source": [
    "df.series_title.nunique()"
   ]
  },
  {
   "cell_type": "code",
   "execution_count": 12,
   "id": "2002d632",
   "metadata": {},
   "outputs": [],
   "source": [
    "df = df[['series_title','tags']]"
   ]
  },
  {
   "cell_type": "code",
   "execution_count": 13,
   "id": "b278a280",
   "metadata": {},
   "outputs": [],
   "source": [
    "from sklearn.feature_extraction.text import CountVectorizer"
   ]
  },
  {
   "cell_type": "code",
   "execution_count": 14,
   "id": "3c411e15",
   "metadata": {},
   "outputs": [],
   "source": [
    "cv = CountVectorizer(max_features=df.series_title.nunique(),stop_words='english')"
   ]
  },
  {
   "cell_type": "code",
   "execution_count": 15,
   "id": "cf1efef0",
   "metadata": {},
   "outputs": [],
   "source": [
    "vector = cv.fit_transform(df.tags).toarray()"
   ]
  },
  {
   "cell_type": "code",
   "execution_count": 16,
   "id": "573bb976",
   "metadata": {},
   "outputs": [],
   "source": [
    "from sklearn.metrics.pairwise import cosine_similarity"
   ]
  },
  {
   "cell_type": "code",
   "execution_count": 17,
   "id": "8cb998b2",
   "metadata": {},
   "outputs": [],
   "source": [
    "similarity = cosine_similarity(vector)"
   ]
  },
  {
   "cell_type": "code",
   "execution_count": 18,
   "id": "c24f45a4",
   "metadata": {},
   "outputs": [],
   "source": [
    "def recommend(movie,n):\n",
    "    print(movie.title().center(50,'_'))\n",
    "    \n",
    "    index = df[df.series_title == movie].index[0]\n",
    "    \n",
    "    df['similarity'] = list(similarity[index])\n",
    "    \n",
    "    distances = sorted(list(enumerate(similarity[index])),reverse =True,key = lambda x: x[1])\n",
    "    \n",
    "    for j,i in enumerate(distances[1:n],start = 1):\n",
    "        print(f\"{j}->\\t{df.iloc[i[0]].series_title.title()}\\nSimilarity: {round(df.iloc[i[0]].similarity,2)}\\n\")\n",
    "        \n",
    "    df.drop('similarity',axis = 1,inplace = True)"
   ]
  },
  {
   "cell_type": "code",
   "execution_count": 19,
   "id": "26e0f910",
   "metadata": {},
   "outputs": [],
   "source": [
    "def choice():\n",
    "    choice = input(\"\\nPress any key to contine or press 'e' to exit: \")\n",
    "    print('\\n')\n",
    "    if choice.lower().strip() == 'e':\n",
    "        return False\n",
    "    return True"
   ]
  },
  {
   "cell_type": "code",
   "execution_count": 23,
   "id": "87d73737",
   "metadata": {
    "scrolled": false
   },
   "outputs": [
    {
     "name": "stdout",
     "output_type": "stream",
     "text": [
      "\n",
      "Enter the movie name: interstellar\n",
      "Number of similarity: 5\n",
      "\n",
      "\n",
      "___________________Interstellar___________________\n",
      "1->\tThe Martian\n",
      "Similarity: 0.44\n",
      "\n",
      "2->\tGattaca\n",
      "Similarity: 0.44\n",
      "\n",
      "3->\tThe Prestige\n",
      "Similarity: 0.42\n",
      "\n",
      "4->\tInception\n",
      "Similarity: 0.4\n",
      "\n",
      "5->\t28 Days Later...\n",
      "Similarity: 0.39\n",
      "\n",
      "\n",
      "Press any key to contine or press 'e' to exit: the dark knight\n",
      "\n",
      "\n",
      "\n",
      "Enter the movie name: the dark knight\n",
      "Number of similarity: 5\n",
      "\n",
      "\n",
      "_________________The Dark Knight__________________\n",
      "1->\tBatman Begins\n",
      "Similarity: 0.6\n",
      "\n",
      "2->\tThe Prestige\n",
      "Similarity: 0.42\n",
      "\n",
      "3->\tThe Dark Knight Rises\n",
      "Similarity: 0.39\n",
      "\n",
      "4->\t300\n",
      "Similarity: 0.35\n",
      "\n",
      "5->\tK.G.F: Chapter 1\n",
      "Similarity: 0.33\n",
      "\n",
      "\n",
      "Press any key to contine or press 'e' to exit: e\n",
      "\n",
      "\n"
     ]
    }
   ],
   "source": [
    "while True:\n",
    "    try:\n",
    "        title = input(\"\\nEnter the movie name: \").lower().strip()\n",
    "        n = int(input(\"Number of similarity: \"))\n",
    "        print('\\n')\n",
    "        if n >df.series_title.nunique():\n",
    "            print(f\"Number of similarity max value is {df.series_title.nunique()} !\\n\")\n",
    "            continue\n",
    "        recommend(movie = title,n = n+1)\n",
    "    except Exception as ex:\n",
    "        print(\"Invalid movie name or number of similarity!\")\n",
    "        \n",
    "        if choice() == False:\n",
    "            break\n",
    "    else:\n",
    "        if choice() == False:\n",
    "            break"
   ]
  }
 ],
 "metadata": {
  "kernelspec": {
   "display_name": "Python 3 (ipykernel)",
   "language": "python",
   "name": "python3"
  },
  "language_info": {
   "codemirror_mode": {
    "name": "ipython",
    "version": 3
   },
   "file_extension": ".py",
   "mimetype": "text/x-python",
   "name": "python",
   "nbconvert_exporter": "python",
   "pygments_lexer": "ipython3",
   "version": "3.9.12"
  }
 },
 "nbformat": 4,
 "nbformat_minor": 5
}
